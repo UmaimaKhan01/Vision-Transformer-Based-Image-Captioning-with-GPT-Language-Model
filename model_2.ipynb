{
 "cells": [
  {
   "cell_type": "code",
   "execution_count": null,
   "id": "526b9439",
   "metadata": {},
   "outputs": [],
   "source": [
    "import torch\n",
    "import torch.nn as nn\n",
    "from transformers import GPT2LMHeadModel\n",
    "from timm import create_model\n",
    "\n",
    "class CaptionModel(nn.Module):\n",
    "    \"\"\"\n",
    "    Combined model using ViT-B/16 for image encoding and GPT-2 for caption generation.\n",
    "    \"\"\"\n",
    "    def __init__(self, model_config):\n",
    "        super().__init__()\n",
    "        \n",
    "        # Initialize Vision Transformer (ViT-B/16) for image encoding\n",
    "        self.image_encoder = create_model('vit_base_patch16_224', pretrained=True, num_classes=0)\n",
    "        self.image_proj = nn.Linear(self.image_encoder.embed_dim, model_config.hidden_size)\n",
    "        \n",
    "        # Initialize GPT-2 model for caption generation\n",
    "        self.caption_generator = GPT2LMHeadModel.from_pretrained('gpt2')\n",
    "\n",
    "    def forward(self, image, input_ids, labels=None):\n",
    "        # Encode image using ViT and project to match GPT-2 input size\n",
    "        encoded_image = self.image_encoder(image)[:, 0]\n",
    "        projected_image = self.image_proj(encoded_image).unsqueeze(1)\n",
    "        \n",
    "        # Concatenate image embedding with text input\n",
    "        model_input = torch.cat([projected_image, self.caption_generator.transformer.wte(input_ids)], dim=1)\n",
    "        \n",
    "        # Forward pass through GPT-2\n",
    "        outputs = self.caption_generator(inputs_embeds=model_input, labels=labels)\n",
    "        \n",
    "        return outputs.loss if labels is not None else outputs.logits\n",
    "\n",
    "    @torch.no_grad()\n",
    "    def generate_caption(self, image, max_tokens=50, temperature=1.0, deterministic=False):\n",
    "        # Encode image and prepare for generation\n",
    "        encoded_image = self.image_encoder(image)[:, 0]\n",
    "        projected_image = self.image_proj(encoded_image).unsqueeze(1)\n",
    "        \n",
    "        # Start with [BOS] token\n",
    "        input_ids = torch.tensor([[self.caption_generator.config.bos_token_id]], device=image.device)\n",
    "        \n",
    "        # Generate caption token by token\n",
    "        for _ in range(max_tokens):\n",
    "            model_input = torch.cat([projected_image, self.caption_generator.transformer.wte(input_ids)], dim=1)\n",
    "            logits = self.caption_generator(inputs_embeds=model_input).logits[:, -1, :] / temperature\n",
    "            next_token = torch.argmax(logits, dim=-1) if deterministic else torch.multinomial(logits.softmax(dim=-1), 1)\n",
    "            input_ids = torch.cat([input_ids, next_token], dim=1)\n",
    "            if next_token.item() == self.caption_generator.config.eos_token_id:\n",
    "                break\n",
    "                \n",
    "        return self.caption_generator.config.tokenizer.decode(input_ids[0], skip_special_tokens=True)"
   ]
  }
 ],
 "metadata": {
  "kernelspec": {
   "display_name": "Python 3 (ipykernel)",
   "language": "python",
   "name": "python3"
  },
  "language_info": {
   "codemirror_mode": {
    "name": "ipython",
    "version": 3
   },
   "file_extension": ".py",
   "mimetype": "text/x-python",
   "name": "python",
   "nbconvert_exporter": "python",
   "pygments_lexer": "ipython3",
   "version": "3.8.10"
  }
 },
 "nbformat": 4,
 "nbformat_minor": 5
}
